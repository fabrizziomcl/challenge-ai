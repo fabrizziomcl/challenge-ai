{
 "cells": [
  {
   "cell_type": "code",
   "execution_count": 1,
   "id": "ff1ccd05-245e-453d-8d21-540331c557f1",
   "metadata": {
    "execution": {
     "iopub.execute_input": "2025-07-25T07:30:53.853389Z",
     "iopub.status.busy": "2025-07-25T07:30:53.853071Z",
     "iopub.status.idle": "2025-07-25T07:30:56.538986Z",
     "shell.execute_reply": "2025-07-25T07:30:56.537912Z",
     "shell.execute_reply.started": "2025-07-25T07:30:53.853364Z"
    }
   },
   "outputs": [
    {
     "name": "stdout",
     "output_type": "stream",
     "text": [
      "sagemaker.config INFO - Not applying SDK defaults from location: /etc/xdg/sagemaker/config.yaml\n",
      "sagemaker.config INFO - Not applying SDK defaults from location: /home/sagemaker-user/.config/sagemaker/config.yaml\n",
      "Configuración lista.\n"
     ]
    }
   ],
   "source": [
    "# --- Celda 1: Configuración ---\n",
    "import sagemaker\n",
    "from sagemaker.pytorch import PyTorchModel\n",
    "import boto3\n",
    "\n",
    "sagemaker_session = sagemaker.Session()\n",
    "role = sagemaker.get_execution_role()\n",
    "bucket = sagemaker_session.default_bucket()\n",
    "\n",
    "print(\"Configuración lista.\")"
   ]
  },
  {
   "cell_type": "code",
   "execution_count": 2,
   "id": "392fad68-df6d-485e-9a1d-bf78cd7707a2",
   "metadata": {
    "execution": {
     "iopub.execute_input": "2025-07-25T07:30:59.109596Z",
     "iopub.status.busy": "2025-07-25T07:30:59.109215Z",
     "iopub.status.idle": "2025-07-25T07:30:59.114279Z",
     "shell.execute_reply": "2025-07-25T07:30:59.113750Z",
     "shell.execute_reply.started": "2025-07-25T07:30:59.109568Z"
    }
   },
   "outputs": [
    {
     "name": "stdout",
     "output_type": "stream",
     "text": [
      "Artefactos del modelo a desplegar: s3://sagemaker-us-east-1-318399884747/credit-risk-hpo-v7-cpu-final-002-048de319/output/model.tar.gz\n"
     ]
    }
   ],
   "source": [
    "# --- Celda 2: Recuperar la Ruta del Mejor Modelo ---\n",
    "%store -r model_artifacts_s3_path\n",
    "\n",
    "if 'model_artifacts_s3_path' not in locals():\n",
    "    raise NameError(\"No se encontró 'model_artifacts_s3_path'. \"\n",
    "                    \"Por favor, ejecuta la Celda 5 del notebook 'train_classifier.ipynb' para guardarla.\")\n",
    "\n",
    "print(f\"Artefactos del modelo a desplegar: {model_artifacts_s3_path}\")"
   ]
  },
  {
   "cell_type": "code",
   "execution_count": 3,
   "id": "07ed6b1d-9302-47f6-ab8b-a9e54479ed8f",
   "metadata": {
    "execution": {
     "iopub.execute_input": "2025-07-25T07:31:02.150266Z",
     "iopub.status.busy": "2025-07-25T07:31:02.149723Z",
     "iopub.status.idle": "2025-07-25T07:31:02.157104Z",
     "shell.execute_reply": "2025-07-25T07:31:02.155806Z",
     "shell.execute_reply.started": "2025-07-25T07:31:02.150232Z"
    }
   },
   "outputs": [
    {
     "name": "stdout",
     "output_type": "stream",
     "text": [
      "Objeto PyTorchModel creado.\n"
     ]
    }
   ],
   "source": [
    "# --- Celda 3: Crear el Objeto del Modelo de SageMaker ---\n",
    "pytorch_model = PyTorchModel(\n",
    "    model_data=model_artifacts_s3_path,\n",
    "    role=role,\n",
    "    entry_point='inference.py', \n",
    "    source_dir='./',           \n",
    "    framework_version='2.0.0',\n",
    "    py_version='py310'\n",
    ")\n",
    "\n",
    "print(\"Objeto PyTorchModel creado.\")"
   ]
  },
  {
   "cell_type": "code",
   "execution_count": 4,
   "id": "a2daf82d-6261-43d5-9f21-bb3833bd7630",
   "metadata": {
    "execution": {
     "iopub.execute_input": "2025-07-25T07:31:11.805770Z",
     "iopub.status.busy": "2025-07-25T07:31:11.804745Z",
     "iopub.status.idle": "2025-07-25T07:35:48.629825Z",
     "shell.execute_reply": "2025-07-25T07:35:48.629146Z",
     "shell.execute_reply.started": "2025-07-25T07:31:11.805738Z"
    }
   },
   "outputs": [
    {
     "name": "stdout",
     "output_type": "stream",
     "text": [
      "Iniciando despliegue en un endpoint de tipo 'ml.m5.large'. Esto puede tardar entre 5 y 10 minutos...\n",
      "-------!\n",
      "¡Éxito! Endpoint 'credit-risk-classifier-endpoint-final' desplegado.\n"
     ]
    }
   ],
   "source": [
    "# --- Celda 4: Desplegar el Modelo a un Endpoint ---\n",
    "instance_type = 'ml.m5.large' \n",
    "endpoint_name = 'credit-risk-classifier-endpoint-final' \n",
    "\n",
    "print(f\"Iniciando despliegue en un endpoint de tipo '{instance_type}'. Esto puede tardar entre 5 y 10 minutos...\")\n",
    "\n",
    "predictor = pytorch_model.deploy(\n",
    "    initial_instance_count=1,\n",
    "    instance_type=instance_type,\n",
    "    endpoint_name=endpoint_name\n",
    ")\n",
    "\n",
    "print(f\"\\n¡Éxito! Endpoint '{endpoint_name}' desplegado.\")"
   ]
  },
  {
   "cell_type": "code",
   "execution_count": 6,
   "id": "aebd0216-74e6-4f52-9aea-40a955db2eb7",
   "metadata": {
    "execution": {
     "iopub.execute_input": "2025-07-25T07:41:34.485961Z",
     "iopub.status.busy": "2025-07-25T07:41:34.485580Z",
     "iopub.status.idle": "2025-07-25T07:41:34.788337Z",
     "shell.execute_reply": "2025-07-25T07:41:34.787441Z",
     "shell.execute_reply.started": "2025-07-25T07:41:34.485937Z"
    }
   },
   "outputs": [
    {
     "name": "stdout",
     "output_type": "stream",
     "text": [
      "\n",
      "Probando con perfil de 'mal riesgo': \"The 29-year-old female customer, currently unemployed and living with relatives, reflects a high credit risk profile. Her lack of steady income, minimal savings, frequent overdrafts in her checking account, and recent application for multiple short-term loans suggest significant financial vulnerability.\"\n",
      "Respuesta del endpoint: {'prediction': 'bad risk', 'confidence': 0.11438444256782532}\n"
     ]
    }
   ],
   "source": [
    "# --- Celda 5: Probar el Endpoint con un Ejemplo Nuevo \n",
    "from sagemaker.serializers import JSONSerializer\n",
    "from sagemaker.deserializers import JSONDeserializer\n",
    "\n",
    "\n",
    "predictor.serializer = JSONSerializer()\n",
    "predictor.deserializer = JSONDeserializer()\n",
    "\n",
    "# EJEMPLO 1: Un perfil que suena a 'mal riesgo'\n",
    "test_description_bad = \"The 29-year-old female customer, currently unemployed and living with relatives, reflects a high credit risk profile. Her lack of steady income, minimal savings, frequent overdrafts in her checking account, and recent application for multiple short-term loans suggest significant financial vulnerability.\"\n",
    "print(f\"\\nProbando con perfil de 'mal riesgo': \\\"{test_description_bad}\\\"\")\n",
    "response_bad = predictor.predict(data={'description': test_description_bad})\n",
    "print(\"Respuesta del endpoint:\", response_bad)"
   ]
  },
  {
   "cell_type": "code",
   "execution_count": 7,
   "id": "3975f0b2-cfa8-45ab-8ebd-086733630340",
   "metadata": {
    "execution": {
     "iopub.execute_input": "2025-07-25T07:41:58.643043Z",
     "iopub.status.busy": "2025-07-25T07:41:58.642595Z",
     "iopub.status.idle": "2025-07-25T07:41:58.896100Z",
     "shell.execute_reply": "2025-07-25T07:41:58.895061Z",
     "shell.execute_reply.started": "2025-07-25T07:41:58.643008Z"
    }
   },
   "outputs": [
    {
     "name": "stdout",
     "output_type": "stream",
     "text": [
      "\n",
      "Probando con perfil de 'buen riesgo': \"The 38-year-old male customer, a full-time government employee and homeowner, demonstrates a strong credit risk profile. His consistent salary, substantial savings, long-standing checking account, and history of timely repayments on previous loans all point toward a reliable financial standing, making him a low-risk borrower.\"\n",
      "Respuesta del endpoint: {'prediction': 'good risk', 'confidence': 0.8997997641563416}\n"
     ]
    }
   ],
   "source": [
    "# EJEMPLO 2: Un perfil que suena a 'buen riesgo'\n",
    "test_description_good = \"The 38-year-old male customer, a full-time government employee and homeowner, demonstrates a strong credit risk profile. His consistent salary, substantial savings, long-standing checking account, and history of timely repayments on previous loans all point toward a reliable financial standing, making him a low-risk borrower.\"\n",
    "print(f\"\\nProbando con perfil de 'buen riesgo': \\\"{test_description_good}\\\"\")\n",
    "response_good = predictor.predict(data={'description': test_description_good})\n",
    "print(\"Respuesta del endpoint:\", response_good)"
   ]
  },
  {
   "cell_type": "code",
   "execution_count": null,
   "id": "f8ab74fb-a4f1-4bf5-9221-0774bb4253a4",
   "metadata": {},
   "outputs": [],
   "source": [
    "# --- Celda 6: Limpieza ---\n",
    "\n",
    "#predictor.delete_endpoint()\n",
    "#print(f\"Endpoint '{endpoint_name}' eliminado.\")"
   ]
  },
  {
   "cell_type": "code",
   "execution_count": 11,
   "id": "3ebbb477-baad-4a47-a653-72307885e007",
   "metadata": {
    "execution": {
     "iopub.execute_input": "2025-07-25T07:59:34.992732Z",
     "iopub.status.busy": "2025-07-25T07:59:34.992315Z",
     "iopub.status.idle": "2025-07-25T07:59:34.997815Z",
     "shell.execute_reply": "2025-07-25T07:59:34.996596Z",
     "shell.execute_reply.started": "2025-07-25T07:59:34.992689Z"
    }
   },
   "outputs": [
    {
     "name": "stdout",
     "output_type": "stream",
     "text": [
      "python predict.py \"Example.\" --endpoint-name \"credit-risk-classifier-endpoint-final\"\n"
     ]
    }
   ],
   "source": [
    "#test\n",
    "print('''python predict.py \"Example.\" --endpoint-name \"credit-risk-classifier-endpoint-final\"''')"
   ]
  }
 ],
 "metadata": {
  "kernelspec": {
   "display_name": "Python 3 (ipykernel)",
   "language": "python",
   "name": "python3"
  },
  "language_info": {
   "codemirror_mode": {
    "name": "ipython",
    "version": 3
   },
   "file_extension": ".py",
   "mimetype": "text/x-python",
   "name": "python",
   "nbconvert_exporter": "python",
   "pygments_lexer": "ipython3",
   "version": "3.12.9"
  }
 },
 "nbformat": 4,
 "nbformat_minor": 5
}
