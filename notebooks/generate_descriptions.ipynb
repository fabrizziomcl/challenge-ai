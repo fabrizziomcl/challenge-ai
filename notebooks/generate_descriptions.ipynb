{
 "cells": [
  {
   "cell_type": "code",
   "execution_count": 1,
   "id": "dc7f36c7-7b54-4a8d-926b-8fec1f199c47",
   "metadata": {
    "execution": {
     "iopub.execute_input": "2025-07-25T00:03:41.252992Z",
     "iopub.status.busy": "2025-07-25T00:03:41.252260Z",
     "iopub.status.idle": "2025-07-25T00:03:43.241569Z",
     "shell.execute_reply": "2025-07-25T00:03:43.240609Z",
     "shell.execute_reply.started": "2025-07-25T00:03:41.252961Z"
    }
   },
   "outputs": [
    {
     "name": "stdout",
     "output_type": "stream",
     "text": [
      "Requirement already satisfied: ipywidgets in /opt/conda/lib/python3.12/site-packages (8.1.7)\n",
      "Requirement already satisfied: comm>=0.1.3 in /opt/conda/lib/python3.12/site-packages (from ipywidgets) (0.2.2)\n",
      "Requirement already satisfied: ipython>=6.1.0 in /opt/conda/lib/python3.12/site-packages (from ipywidgets) (8.37.0)\n",
      "Requirement already satisfied: traitlets>=4.3.1 in /opt/conda/lib/python3.12/site-packages (from ipywidgets) (5.14.3)\n",
      "Requirement already satisfied: widgetsnbextension~=4.0.14 in /opt/conda/lib/python3.12/site-packages (from ipywidgets) (4.0.14)\n",
      "Requirement already satisfied: jupyterlab_widgets~=3.0.15 in /opt/conda/lib/python3.12/site-packages (from ipywidgets) (3.0.15)\n",
      "Requirement already satisfied: decorator in /opt/conda/lib/python3.12/site-packages (from ipython>=6.1.0->ipywidgets) (5.2.1)\n",
      "Requirement already satisfied: jedi>=0.16 in /opt/conda/lib/python3.12/site-packages (from ipython>=6.1.0->ipywidgets) (0.19.2)\n",
      "Requirement already satisfied: matplotlib-inline in /opt/conda/lib/python3.12/site-packages (from ipython>=6.1.0->ipywidgets) (0.1.7)\n",
      "Requirement already satisfied: pexpect>4.3 in /opt/conda/lib/python3.12/site-packages (from ipython>=6.1.0->ipywidgets) (4.9.0)\n",
      "Requirement already satisfied: prompt_toolkit<3.1.0,>=3.0.41 in /opt/conda/lib/python3.12/site-packages (from ipython>=6.1.0->ipywidgets) (3.0.51)\n",
      "Requirement already satisfied: pygments>=2.4.0 in /opt/conda/lib/python3.12/site-packages (from ipython>=6.1.0->ipywidgets) (2.19.2)\n",
      "Requirement already satisfied: stack_data in /opt/conda/lib/python3.12/site-packages (from ipython>=6.1.0->ipywidgets) (0.6.3)\n",
      "Requirement already satisfied: wcwidth in /opt/conda/lib/python3.12/site-packages (from prompt_toolkit<3.1.0,>=3.0.41->ipython>=6.1.0->ipywidgets) (0.2.13)\n",
      "Requirement already satisfied: parso<0.9.0,>=0.8.4 in /opt/conda/lib/python3.12/site-packages (from jedi>=0.16->ipython>=6.1.0->ipywidgets) (0.8.4)\n",
      "Requirement already satisfied: ptyprocess>=0.5 in /opt/conda/lib/python3.12/site-packages (from pexpect>4.3->ipython>=6.1.0->ipywidgets) (0.7.0)\n",
      "Requirement already satisfied: executing>=1.2.0 in /opt/conda/lib/python3.12/site-packages (from stack_data->ipython>=6.1.0->ipywidgets) (2.2.0)\n",
      "Requirement already satisfied: asttokens>=2.1.0 in /opt/conda/lib/python3.12/site-packages (from stack_data->ipython>=6.1.0->ipywidgets) (3.0.0)\n",
      "Requirement already satisfied: pure_eval in /opt/conda/lib/python3.12/site-packages (from stack_data->ipython>=6.1.0->ipywidgets) (0.2.3)\n",
      "usage: jupyter [-h] [--version] [--config-dir] [--data-dir] [--runtime-dir]\n",
      "               [--paths] [--json] [--debug]\n",
      "               [subcommand]\n",
      "\n",
      "Jupyter: Interactive Computing\n",
      "\n",
      "positional arguments:\n",
      "  subcommand     the subcommand to launch\n",
      "\n",
      "options:\n",
      "  -h, --help     show this help message and exit\n",
      "  --version      show the versions of core jupyter packages and exit\n",
      "  --config-dir   show Jupyter config dir\n",
      "  --data-dir     show Jupyter data dir\n",
      "  --runtime-dir  show Jupyter runtime dir\n",
      "  --paths        show all Jupyter paths. Add --json for machine-readable\n",
      "                 format.\n",
      "  --json         output paths as machine-readable json\n",
      "  --debug        output debug information about paths\n",
      "\n",
      "Available subcommands: console dejavu events execute fileid kernel kernelspec\n",
      "lab labextension labhub migrate nbconvert notebook run server troubleshoot\n",
      "trust\n",
      "\n",
      "Jupyter command `jupyter-nbextension` not found.\n"
     ]
    }
   ],
   "source": [
    "!pip install ipywidgets\n",
    "!jupyter nbextension enable --py widgetsnbextension --sys-prefix"
   ]
  },
  {
   "cell_type": "code",
   "execution_count": 2,
   "id": "ea15551f-6d81-4b2b-9308-ee841dd4c535",
   "metadata": {
    "execution": {
     "iopub.execute_input": "2025-07-25T00:04:12.575789Z",
     "iopub.status.busy": "2025-07-25T00:04:12.575294Z",
     "iopub.status.idle": "2025-07-25T00:04:13.310191Z",
     "shell.execute_reply": "2025-07-25T00:04:13.309483Z",
     "shell.execute_reply.started": "2025-07-25T00:04:12.575758Z"
    }
   },
   "outputs": [
    {
     "name": "stdout",
     "output_type": "stream",
     "text": [
      "Inicializando cliente de AWS Bedrock (Bedrock Runtime)...\n",
      "Configuración completada. Bucket S3: preauth-challenge-ai-20252, Modelo: amazon.nova-micro-v1:0\n"
     ]
    }
   ],
   "source": [
    "# Celda 1: Imports, configuración de cliente Bedrock y variables S3\n",
    "import boto3\n",
    "import pandas as pd\n",
    "import json\n",
    "import os\n",
    "from tqdm.auto import tqdm  # Detecta automáticamente si usar widgets o consola de texto\n",
    "\n",
    "# Parámetros de S3\n",
    "default_bucket = \"preauth-challenge-ai-20252\"\n",
    "S3_BUCKET_NAME = os.getenv(\"S3_BUCKET_NAME\", default_bucket)\n",
    "S3_INPUT_PATH = f\"s3://{S3_BUCKET_NAME}/training_data/credir_risk_reto.csv\"\n",
    "S3_OUTPUT_PATH = f\"s3://{S3_BUCKET_NAME}/generated_data/credir_risk_reto_generated.csv\"\n",
    "\n",
    "# Inicializar Bedrock Runtime (Amazon Nova Micro)\n",
    "print(\"Inicializando cliente de AWS Bedrock (Bedrock Runtime)...\")\n",
    "bedrock_runtime = boto3.client(\n",
    "    service_name='bedrock-runtime',\n",
    "    region_name='us-east-1'\n",
    ")\n",
    "MODEL_ID = 'amazon.nova-micro-v1:0'\n",
    "print(f\"Configuración completada. Bucket S3: {S3_BUCKET_NAME}, Modelo: {MODEL_ID}\")\n",
    "\n",
    "# Mapeo de códigos de empleo a texto legible\n",
    "job_map = {\n",
    "    0: \"unskilled and non-resident\",\n",
    "    1: \"unskilled and resident\",\n",
    "    2: \"skilled\",\n",
    "    3: \"highly skilled\"\n",
    "}"
   ]
  },
  {
   "cell_type": "code",
   "execution_count": 3,
   "id": "515c1f54-06af-4658-9a20-c271afd8e50d",
   "metadata": {
    "execution": {
     "iopub.execute_input": "2025-07-25T00:04:28.391792Z",
     "iopub.status.busy": "2025-07-25T00:04:28.391434Z",
     "iopub.status.idle": "2025-07-25T00:04:28.895852Z",
     "shell.execute_reply": "2025-07-25T00:04:28.895043Z",
     "shell.execute_reply.started": "2025-07-25T00:04:28.391769Z"
    }
   },
   "outputs": [
    {
     "name": "stdout",
     "output_type": "stream",
     "text": [
      "Intentando cargar el dataset desde: s3://preauth-challenge-ai-20252/training_data/credir_risk_reto.csv\n",
      "Dataset original cargado exitosamente. Registros: 1000\n"
     ]
    },
    {
     "data": {
      "text/html": [
       "<div>\n",
       "<style scoped>\n",
       "    .dataframe tbody tr th:only-of-type {\n",
       "        vertical-align: middle;\n",
       "    }\n",
       "\n",
       "    .dataframe tbody tr th {\n",
       "        vertical-align: top;\n",
       "    }\n",
       "\n",
       "    .dataframe thead th {\n",
       "        text-align: right;\n",
       "    }\n",
       "</style>\n",
       "<table border=\"1\" class=\"dataframe\">\n",
       "  <thead>\n",
       "    <tr style=\"text-align: right;\">\n",
       "      <th></th>\n",
       "      <th>Age</th>\n",
       "      <th>Sex</th>\n",
       "      <th>Job</th>\n",
       "      <th>Housing</th>\n",
       "      <th>Saving accounts</th>\n",
       "      <th>Checking account</th>\n",
       "      <th>Credit amount</th>\n",
       "      <th>Duration</th>\n",
       "      <th>Purpose</th>\n",
       "    </tr>\n",
       "  </thead>\n",
       "  <tbody>\n",
       "    <tr>\n",
       "      <th>0</th>\n",
       "      <td>67</td>\n",
       "      <td>male</td>\n",
       "      <td>2</td>\n",
       "      <td>own</td>\n",
       "      <td>NaN</td>\n",
       "      <td>little</td>\n",
       "      <td>1169</td>\n",
       "      <td>6</td>\n",
       "      <td>radio/TV</td>\n",
       "    </tr>\n",
       "    <tr>\n",
       "      <th>1</th>\n",
       "      <td>22</td>\n",
       "      <td>female</td>\n",
       "      <td>2</td>\n",
       "      <td>own</td>\n",
       "      <td>little</td>\n",
       "      <td>moderate</td>\n",
       "      <td>5951</td>\n",
       "      <td>48</td>\n",
       "      <td>radio/TV</td>\n",
       "    </tr>\n",
       "    <tr>\n",
       "      <th>2</th>\n",
       "      <td>49</td>\n",
       "      <td>male</td>\n",
       "      <td>1</td>\n",
       "      <td>own</td>\n",
       "      <td>little</td>\n",
       "      <td>NaN</td>\n",
       "      <td>2096</td>\n",
       "      <td>12</td>\n",
       "      <td>education</td>\n",
       "    </tr>\n",
       "    <tr>\n",
       "      <th>3</th>\n",
       "      <td>45</td>\n",
       "      <td>male</td>\n",
       "      <td>2</td>\n",
       "      <td>free</td>\n",
       "      <td>little</td>\n",
       "      <td>little</td>\n",
       "      <td>7882</td>\n",
       "      <td>42</td>\n",
       "      <td>furniture/equipment</td>\n",
       "    </tr>\n",
       "    <tr>\n",
       "      <th>4</th>\n",
       "      <td>53</td>\n",
       "      <td>male</td>\n",
       "      <td>2</td>\n",
       "      <td>free</td>\n",
       "      <td>little</td>\n",
       "      <td>little</td>\n",
       "      <td>4870</td>\n",
       "      <td>24</td>\n",
       "      <td>car</td>\n",
       "    </tr>\n",
       "  </tbody>\n",
       "</table>\n",
       "</div>"
      ],
      "text/plain": [
       "   Age     Sex  Job Housing Saving accounts Checking account  Credit amount  \\\n",
       "0   67    male    2     own             NaN           little           1169   \n",
       "1   22  female    2     own          little         moderate           5951   \n",
       "2   49    male    1     own          little              NaN           2096   \n",
       "3   45    male    2    free          little           little           7882   \n",
       "4   53    male    2    free          little           little           4870   \n",
       "\n",
       "   Duration              Purpose  \n",
       "0         6             radio/TV  \n",
       "1        48             radio/TV  \n",
       "2        12            education  \n",
       "3        42  furniture/equipment  \n",
       "4        24                  car  "
      ]
     },
     "metadata": {},
     "output_type": "display_data"
    }
   ],
   "source": [
    "# Celda 2: Carga de datos desde S3\n",
    "def load_dataset(path):\n",
    "    print(f\"Intentando cargar el dataset desde: {path}\")\n",
    "    try:\n",
    "        df = pd.read_csv(path)\n",
    "        print(f\"Dataset original cargado exitosamente. Registros: {df.shape[0]}\")\n",
    "        return df\n",
    "    except Exception as e:\n",
    "        raise RuntimeError(\n",
    "            f\"No se pudo cargar el archivo desde S3. Verifica bucket, ruta y permisos. Detalle: {e}\"\n",
    "        )\n",
    "\n",
    "# Carga el DataFrame\n",
    "df_original = load_dataset(S3_INPUT_PATH)\n",
    "display(df_original.head())"
   ]
  },
  {
   "cell_type": "code",
   "execution_count": 6,
   "id": "d0009028-f925-4aef-a9a6-0c6b3c16c7e3",
   "metadata": {
    "execution": {
     "iopub.execute_input": "2025-07-25T00:08:14.223682Z",
     "iopub.status.busy": "2025-07-25T00:08:14.223287Z",
     "iopub.status.idle": "2025-07-25T00:08:14.229184Z",
     "shell.execute_reply": "2025-07-25T00:08:14.228472Z",
     "shell.execute_reply.started": "2025-07-25T00:08:14.223652Z"
    }
   },
   "outputs": [],
   "source": [
    "# Celda 3: Definición de la función de generación \n",
    "def generate_credit_description(row, client, model_id):\n",
    "    \"\"\"\n",
    "    Genera una breve descripción del perfil de riesgo crediticio usando Amazon Nova Micro (API Converse).\n",
    "    \"\"\"\n",
    "    user_text = (\n",
    "        \"Provide a brief description of the credit risk profile in two short sentences. \"\n",
    "        + f\"A {row.Age}-year-old {row.Sex.lower()} customer, employed as a {job_map[row.Job]}, \"\n",
    "        + f\"lives in a {row.Housing.lower()} housing situation. They have a savings account categorized as \"\n",
    "        + f\"'{row['Saving accounts']}' and a checking account listed as '{row['Checking account']}'. \"\n",
    "        + f\"The customer has applied for a credit amount of {row['Credit amount']} to be repaid over \"\n",
    "        + f\"{row['Duration']} months for the purpose of '{row['Purpose']}'.\"\n",
    "    )\n",
    "    user_message = {\"role\": \"user\", \"content\": [{\"text\": user_text}]}\n",
    "\n",
    "    try:\n",
    "        response = client.converse(\n",
    "            modelId=model_id,\n",
    "            messages=[user_message],\n",
    "            inferenceConfig={\n",
    "                \"maxTokens\": 64,\n",
    "                \"temperature\": 1.0,  \n",
    "                \"topP\": 0.9\n",
    "            }\n",
    "        )\n",
    "        return response[\"output\"][\"message\"][\"content\"][0][\"text\"].strip()\n",
    "    except Exception as e:\n",
    "        raise RuntimeError(f\"Error al invocar Converse: {e}\")"
   ]
  },
  {
   "cell_type": "code",
   "execution_count": 9,
   "id": "6f9c1c55-c75f-4a90-9ce9-8c0c8becde7b",
   "metadata": {
    "execution": {
     "iopub.execute_input": "2025-07-25T00:12:20.611671Z",
     "iopub.status.busy": "2025-07-25T00:12:20.611314Z",
     "iopub.status.idle": "2025-07-25T00:31:22.163064Z",
     "shell.execute_reply": "2025-07-25T00:31:22.162247Z",
     "shell.execute_reply.started": "2025-07-25T00:12:20.611646Z"
    }
   },
   "outputs": [
    {
     "name": "stdout",
     "output_type": "stream",
     "text": [
      "Iniciando la generación de descripciones para 1000 registros...\n"
     ]
    },
    {
     "data": {
      "application/vnd.jupyter.widget-view+json": {
       "model_id": "c6087ef78a9b4ddeb51ece989d479be3",
       "version_major": 2,
       "version_minor": 0
      },
      "text/plain": [
       "Generando Descripciones:   0%|          | 0/1000 [00:00<?, ?it/s]"
      ]
     },
     "metadata": {},
     "output_type": "display_data"
    },
    {
     "name": "stdout",
     "output_type": "stream",
     "text": [
      "Generación completada.\n",
      "Archivo guardado en: s3://preauth-challenge-ai-20252/generated_data/credir_risk_reto_generated.csv\n"
     ]
    }
   ],
   "source": [
    "# Celda 4: Generación y guardado de descripciones\n",
    "def generate_and_save(df):\n",
    "    to_process = df\n",
    "    total = to_process.shape[0]\n",
    "    print(f\"Iniciando la generación de descripciones para {total} registros...\")\n",
    "    descriptions = []\n",
    "    for idx, row in tqdm(to_process.iterrows(), total=total, desc=\"Generando Descripciones\"):\n",
    "        try:\n",
    "            descriptions.append(generate_credit_description(row, bedrock_runtime, MODEL_ID))\n",
    "        except Exception as e:\n",
    "            print(f\"Error en fila {idx}: {e}\")\n",
    "            break\n",
    "    df['Description'] = descriptions\n",
    "    print(\"Generación completada.\")\n",
    "    df.to_csv(S3_OUTPUT_PATH, index=False)\n",
    "    print(f\"Archivo guardado en: {S3_OUTPUT_PATH}\")\n",
    "\n",
    "generate_and_save(df_original)"
   ]
  },
  {
   "cell_type": "code",
   "execution_count": 13,
   "id": "508bee3e-da3e-41bc-b70e-d6868ffb15b5",
   "metadata": {
    "execution": {
     "iopub.execute_input": "2025-07-25T00:37:44.444937Z",
     "iopub.status.busy": "2025-07-25T00:37:44.444571Z",
     "iopub.status.idle": "2025-07-25T00:37:44.452033Z",
     "shell.execute_reply": "2025-07-25T00:37:44.451295Z",
     "shell.execute_reply.started": "2025-07-25T00:37:44.444910Z"
    }
   },
   "outputs": [
    {
     "data": {
      "text/plain": [
       "0      The 67-year-old male customer, employed and re...\n",
       "1      The credit risk profile for this 22-year-old f...\n",
       "2      The credit risk profile for this 49-year-old m...\n",
       "3      The 45-year-old male customer, employed in a s...\n",
       "4      The 53-year-old skilled male, with limited sav...\n",
       "                             ...                        \n",
       "995    The credit risk profile for this 31-year-old f...\n",
       "996    The credit risk profile for this 40-year-old m...\n",
       "997    The credit risk profile for this 38-year-old s...\n",
       "998    The credit risk profile for this 23-year-old m...\n",
       "999    The credit risk profile for this 27-year-old m...\n",
       "Name: Description, Length: 1000, dtype: object"
      ]
     },
     "metadata": {},
     "output_type": "display_data"
    }
   ],
   "source": [
    "display(df_original[\"Description\"])"
   ]
  },
  {
   "cell_type": "code",
   "execution_count": null,
   "id": "22a8f00a-29ef-4780-836b-f525b7ad3450",
   "metadata": {},
   "outputs": [],
   "source": []
  }
 ],
 "metadata": {
  "kernelspec": {
   "display_name": "Python 3 (ipykernel)",
   "language": "python",
   "name": "python3"
  },
  "language_info": {
   "codemirror_mode": {
    "name": "ipython",
    "version": 3
   },
   "file_extension": ".py",
   "mimetype": "text/x-python",
   "name": "python",
   "nbconvert_exporter": "python",
   "pygments_lexer": "ipython3",
   "version": "3.12.9"
  }
 },
 "nbformat": 4,
 "nbformat_minor": 5
}
