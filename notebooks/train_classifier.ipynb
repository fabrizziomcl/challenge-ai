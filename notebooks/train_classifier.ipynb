{
 "cells": [
  {
   "cell_type": "code",
   "execution_count": 1,
   "id": "3682426f-00cb-4c97-b413-4890a5fbc1a2",
   "metadata": {
    "execution": {
     "iopub.execute_input": "2025-07-25T06:44:13.039979Z",
     "iopub.status.busy": "2025-07-25T06:44:13.038797Z",
     "iopub.status.idle": "2025-07-25T06:44:15.402205Z",
     "shell.execute_reply": "2025-07-25T06:44:15.401343Z",
     "shell.execute_reply.started": "2025-07-25T06:44:13.039935Z"
    }
   },
   "outputs": [
    {
     "name": "stdout",
     "output_type": "stream",
     "text": [
      "sagemaker.config INFO - Not applying SDK defaults from location: /etc/xdg/sagemaker/config.yaml\n",
      "sagemaker.config INFO - Not applying SDK defaults from location: /home/sagemaker-user/.config/sagemaker/config.yaml\n",
      "Input data: s3://preauth-challenge-ai-20252/final_data/credir_risk_reto_classified.csv\n",
      "HPO output prefix: s3://preauth-challenge-ai-20252/hpo_outputs/\n"
     ]
    }
   ],
   "source": [
    "# --- Celda 1: Setup y Configuración ---\n",
    "import sagemaker\n",
    "from sagemaker.pytorch import PyTorch\n",
    "from sagemaker.tuner import HyperparameterTuner, IntegerParameter, ContinuousParameter, CategoricalParameter\n",
    "\n",
    "sagemaker_session = sagemaker.Session()\n",
    "role = sagemaker.get_execution_role()\n",
    "bucket = 'preauth-challenge-ai-20252' \n",
    "\n",
    "input_s3_path = f's3://{bucket}/final_data/credir_risk_reto_classified.csv'\n",
    "output_s3_path = f's3://{bucket}/hpo_outputs/'\n",
    "\n",
    "print(f\"Input data: {input_s3_path}\")\n",
    "print(f\"HPO output prefix: {output_s3_path}\")\n",
    "\n",
    "max_jobs = 6 \n",
    "max_parallel_jobs = 3 "
   ]
  },
  {
   "cell_type": "code",
   "execution_count": 2,
   "id": "d41de581-e2f1-4e4a-beb7-29446afbb21f",
   "metadata": {
    "execution": {
     "iopub.execute_input": "2025-07-25T06:44:17.645566Z",
     "iopub.status.busy": "2025-07-25T06:44:17.645007Z",
     "iopub.status.idle": "2025-07-25T06:44:17.887595Z",
     "shell.execute_reply": "2025-07-25T06:44:17.886859Z",
     "shell.execute_reply.started": "2025-07-25T06:44:17.645541Z"
    }
   },
   "outputs": [],
   "source": [
    "# Cell 2: Estimator Definition \n",
    "estimator = PyTorch(\n",
    "    entry_point='train.py',\n",
    "    source_dir='./',\n",
    "    role=role,\n",
    "    instance_count=1,\n",
    "    instance_type='ml.m5.large',\n",
    "    framework_version='2.0.0',\n",
    "    py_version='py310',\n",
    "    hyperparameters={'max-len': 64}\n",
    ")"
   ]
  },
  {
   "cell_type": "code",
   "execution_count": 3,
   "id": "cf123c2d-3739-462c-b2e3-b5bda8f3a524",
   "metadata": {
    "execution": {
     "iopub.execute_input": "2025-07-25T06:44:19.591729Z",
     "iopub.status.busy": "2025-07-25T06:44:19.591236Z",
     "iopub.status.idle": "2025-07-25T06:44:19.597203Z",
     "shell.execute_reply": "2025-07-25T06:44:19.596098Z",
     "shell.execute_reply.started": "2025-07-25T06:44:19.591703Z"
    }
   },
   "outputs": [],
   "source": [
    "# Cell 3: Hyperparameter Tuner Definition (VERSIÓN REFINADA)\n",
    "\n",
    "hyperparameter_ranges = {\n",
    "    'learning-rate': ContinuousParameter(1e-5, 8e-5),  \n",
    "    'epochs': IntegerParameter(3, 5),                  \n",
    "    'train-batch-size': CategoricalParameter([8, 16]),\n",
    "    'warmup-steps': IntegerParameter(0, 50)            \n",
    "}\n",
    "\n",
    "objective_metric_name = 'validation:accuracy'\n",
    "\n",
    "metric_definitions = [{\n",
    "    'Name': objective_metric_name,\n",
    "    'Regex': r\"Validation Accuracy: (\\S+)\"\n",
    "}]\n",
    "\n",
    "tuner = HyperparameterTuner(\n",
    "    estimator=estimator,\n",
    "    objective_metric_name=objective_metric_name,\n",
    "    hyperparameter_ranges=hyperparameter_ranges,\n",
    "    metric_definitions=metric_definitions,\n",
    "    max_jobs=max_jobs,\n",
    "    max_parallel_jobs=max_parallel_jobs,\n",
    "    objective_type='Maximize'\n",
    ")\n"
   ]
  },
  {
   "cell_type": "code",
   "execution_count": 4,
   "id": "2d640ee5-f8c1-40b8-98c1-b94dd1a3ad09",
   "metadata": {
    "execution": {
     "iopub.execute_input": "2025-07-25T06:44:22.648263Z",
     "iopub.status.busy": "2025-07-25T06:44:22.647431Z",
     "iopub.status.idle": "2025-07-25T07:15:44.265344Z",
     "shell.execute_reply": "2025-07-25T07:15:44.264498Z",
     "shell.execute_reply.started": "2025-07-25T06:44:22.648226Z"
    },
    "scrolled": true
   },
   "outputs": [
    {
     "name": "stderr",
     "output_type": "stream",
     "text": [
      "No finished training job found associated with this estimator. Please make sure this estimator is only used for building workflow config\n"
     ]
    },
    {
     "name": "stdout",
     "output_type": "stream",
     "text": [
      "HPO job 'credit-risk-hpo-v7-cpu-final' launched. Supervising progress...\n"
     ]
    },
    {
     "name": "stderr",
     "output_type": "stream",
     "text": [
      "Completed trials: 100%|██████████| 6/6 [31:04<00:00, 310.72s/it]"
     ]
    },
    {
     "name": "stdout",
     "output_type": "stream",
     "text": [
      "\n",
      "Hyperparameter tuning finished with status: Completed\n",
      "Best training job: credit-risk-hpo-v7-cpu-final-002-048de319\n",
      "Artifacts for the best job are in: s3://preauth-challenge-ai-20252/credit-risk-hpo-v7-cpu-final-002-048de319/output/model.tar.gz\n"
     ]
    },
    {
     "name": "stderr",
     "output_type": "stream",
     "text": [
      "\n"
     ]
    }
   ],
   "source": [
    "# Cell 4: Launch HPO and Monitor Progress\n",
    "import boto3\n",
    "from time import sleep\n",
    "from tqdm import tqdm\n",
    "\n",
    "sm_client = boto3.client('sagemaker')\n",
    "\n",
    "job_name = 'credit-risk-hpo-v7-cpu-final' \n",
    "tuner.fit({'training': input_s3_path}, job_name=job_name, wait=False, logs=False)\n",
    "print(f\"HPO job '{job_name}' launched. Supervising progress...\")\n",
    "\n",
    "completed = 0\n",
    "bar = tqdm(total=max_jobs, desc='Completed trials')\n",
    "\n",
    "while True:\n",
    "    hpo_desc = sm_client.describe_hyper_parameter_tuning_job(\n",
    "        HyperParameterTuningJobName=job_name\n",
    "    )\n",
    "    status = hpo_desc['HyperParameterTuningJobStatus']\n",
    "    \n",
    "    job_counters = hpo_desc['TrainingJobStatusCounters']\n",
    "    new_completed = job_counters.get('Completed', 0)\n",
    "\n",
    "    if new_completed > completed:\n",
    "        bar.update(new_completed - completed)\n",
    "        completed = new_completed\n",
    "\n",
    "    if status in ['Completed', 'Failed', 'Stopped']:\n",
    "        if bar.n < max_jobs:\n",
    "             bar.update(max_jobs - bar.n)\n",
    "        break\n",
    "        \n",
    "    sleep(60)\n",
    "\n",
    "bar.close()\n",
    "print(f'\\nHyperparameter tuning finished with status: {status}')\n",
    "\n",
    "if status == 'Completed':\n",
    "    best_job = tuner.best_training_job()\n",
    "    print(f\"Best training job: {best_job}\")\n",
    "    print(f\"Artifacts for the best job are in: s3://{bucket}/{best_job}/output/model.tar.gz\")\n",
    "else:\n",
    "    print(\"HPO did not complete successfully. No best job to show.\")"
   ]
  },
  {
   "cell_type": "code",
   "execution_count": 5,
   "id": "fc126d5a-965f-403c-b9de-114f3966b1c3",
   "metadata": {
    "execution": {
     "iopub.execute_input": "2025-07-25T07:17:44.626093Z",
     "iopub.status.busy": "2025-07-25T07:17:44.625719Z",
     "iopub.status.idle": "2025-07-25T07:17:44.832574Z",
     "shell.execute_reply": "2025-07-25T07:17:44.831822Z",
     "shell.execute_reply.started": "2025-07-25T07:17:44.626070Z"
    }
   },
   "outputs": [
    {
     "name": "stdout",
     "output_type": "stream",
     "text": [
      "Mejor job de entrenamiento: credit-risk-hpo-v7-cpu-final-002-048de319\n",
      "\n",
      "El MEJOR MODELO se encuentra en: s3://sagemaker-us-east-1-318399884747/credit-risk-hpo-v7-cpu-final-002-048de319/output/model.tar.gz\n",
      "Stored 'model_artifacts_s3_path' (str)\n",
      "\n",
      "La ruta a los artefactos ha sido guardada para el siguiente notebook.\n"
     ]
    }
   ],
   "source": [
    "# Cell 5: Obtener artefactos del mejor modelo\n",
    "import boto3\n",
    "\n",
    "sm_client = boto3.client('sagemaker')\n",
    "\n",
    "try:\n",
    "    tuning_job_name = tuner.latest_tuning_job.job_name if 'tuner' in locals() and tuner.latest_tuning_job else job_name\n",
    "    tuner_description = sm_client.describe_hyper_parameter_tuning_job(\n",
    "        HyperParameterTuningJobName=tuning_job_name\n",
    "    )\n",
    "    \n",
    "    if tuner_description['HyperParameterTuningJobStatus'] == 'Completed':\n",
    "        best_training_job_name = tuner_description['BestTrainingJob']['TrainingJobName']\n",
    "        print(f\"Mejor job de entrenamiento: {best_training_job_name}\")\n",
    "\n",
    "        job_description = sm_client.describe_training_job(TrainingJobName=best_training_job_name)\n",
    "        model_artifacts_s3_path = job_description['ModelArtifacts']['S3ModelArtifacts']\n",
    "\n",
    "        print(f\"\\nEl MEJOR MODELO se encuentra en: {model_artifacts_s3_path}\")\n",
    "\n",
    "        %store model_artifacts_s3_path\n",
    "        print(\"\\nLa ruta a los artefactos ha sido guardada para el siguiente notebook.\")\n",
    "    else:\n",
    "        print(\"El trabajo de HPO no se completó. No se puede obtener el mejor modelo.\")\n",
    "\n",
    "except Exception as e:\n",
    "    print(f\"Error al obtener los artefactos: {e}\")"
   ]
  },
  {
   "cell_type": "code",
   "execution_count": null,
   "id": "5d6f7bb4-65ff-4a97-8817-916f9dec40da",
   "metadata": {},
   "outputs": [],
   "source": []
  }
 ],
 "metadata": {
  "kernelspec": {
   "display_name": "Python 3 (ipykernel)",
   "language": "python",
   "name": "python3"
  },
  "language_info": {
   "codemirror_mode": {
    "name": "ipython",
    "version": 3
   },
   "file_extension": ".py",
   "mimetype": "text/x-python",
   "name": "python",
   "nbconvert_exporter": "python",
   "pygments_lexer": "ipython3",
   "version": "3.12.9"
  }
 },
 "nbformat": 4,
 "nbformat_minor": 5
}
